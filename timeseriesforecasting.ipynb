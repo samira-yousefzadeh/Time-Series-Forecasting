{
 "cells": [
  {
   "cell_type": "code",
   "execution_count": 17,
   "id": "1dd1bc84-4b7c-496d-bf0b-b92a6296e8e9",
   "metadata": {},
   "outputs": [],
   "source": [
    "import pandas as pd\n",
    "import numpy as np\n",
    "import matplotlib.pyplot as plt\n",
    "from sklearn.linear_model import LinearRegression\n",
    "from sklearn.metrics import mean_squared_error"
   ]
  },
  {
   "cell_type": "code",
   "execution_count": 19,
   "id": "7f783400-9684-4649-92d1-6cf6da1525bc",
   "metadata": {},
   "outputs": [],
   "source": [
    "# 1. Generate synthetic time series data\n",
    "np.random.seed(42)\n",
    "dates = pd.date_range(start=\"2022-01-01\", periods=100, freq=\"D\")\n",
    "values = np.sin(np.linspace(0, 20, 100)) + np.random.normal(scale=0.3, size=100)\n",
    "df = pd.DataFrame({\"Date\": dates, \"Value\": values})\n",
    "df.set_index(\"Date\", inplace=True)"
   ]
  },
  {
   "cell_type": "code",
   "execution_count": 21,
   "id": "e98a8f24-53b1-4316-a88e-9f5b82ab0fe9",
   "metadata": {},
   "outputs": [],
   "source": [
    "# 2. Create lag features\n",
    "def create_lag_features(df, lag=5):\n",
    "    for i in range(1, lag + 1):\n",
    "        df[f\"lag_{i}\"] = df[\"Value\"].shift(i)\n",
    "    return df\n",
    "\n",
    "df = create_lag_features(df)\n",
    "df.dropna(inplace=True)"
   ]
  },
  {
   "cell_type": "code",
   "execution_count": null,
   "id": "3ee4f6a4-f235-4315-b753-b98cc949c497",
   "metadata": {},
   "outputs": [],
   "source": [
    "df.info()"
   ]
  },
  {
   "cell_type": "code",
   "execution_count": null,
   "id": "796bc6d7-24ee-474c-b73f-829976d41f5e",
   "metadata": {},
   "outputs": [],
   "source": []
  },
  {
   "cell_type": "code",
   "execution_count": null,
   "id": "dd9573c0-4cb6-46b8-933b-d965f991d1e2",
   "metadata": {},
   "outputs": [],
   "source": [
    "# 3. Train-test split\n",
    "train = df[:-10]\n",
    "test = df[-10:]\n",
    "\n",
    "X_train = train.drop(\"Value\", axis=1)\n",
    "y_train = train[\"Value\"]\n",
    "X_test = test.drop(\"Value\", axis=1)\n",
    "y_test = test[\"Value\"]"
   ]
  },
  {
   "cell_type": "code",
   "execution_count": null,
   "id": "0cfb311e-1cfc-474c-b283-a12e84f20dc7",
   "metadata": {},
   "outputs": [],
   "source": [
    "# 4. Train model\n",
    "model = LinearRegression()\n",
    "model.fit(X_train, y_train)"
   ]
  },
  {
   "cell_type": "code",
   "execution_count": null,
   "id": "041e4b81-e48d-4dbd-8c12-a91874ca6311",
   "metadata": {},
   "outputs": [],
   "source": [
    "# 5. Predict\n",
    "y_pred = model.predict(X_test)"
   ]
  },
  {
   "cell_type": "code",
   "execution_count": null,
   "id": "e7d06014-365b-47c1-8fa3-3a4bd29eb0f6",
   "metadata": {},
   "outputs": [],
   "source": [
    "# 6. Evaluation\n",
    "mse = mean_squared_error(y_test, y_pred)\n",
    "print(\"Mean Squared Error:\", mse)"
   ]
  },
  {
   "cell_type": "code",
   "execution_count": null,
   "id": "c927e4ce-f2fc-46dd-8eb1-28512db89e71",
   "metadata": {},
   "outputs": [],
   "source": [
    "# 7. Plot results\n",
    "plt.figure(figsize=(10, 5))\n",
    "plt.plot(df.index, df[\"Value\"], label=\"Actual Data\")\n",
    "plt.plot(test.index, y_pred, label=\"Predicted\", linestyle='--', marker='o')\n",
    "plt.axvline(test.index[0], color='gray', linestyle='--', label='Train/Test Split')\n",
    "plt.legend()\n",
    "plt.title(\"Time Series Forecasting with Linear Regression\")\n",
    "plt.xlabel(\"Date\")\n",
    "plt.ylabel(\"Value\")\n",
    "plt.grid(True)\n",
    "plt.show()"
   ]
  }
 ],
 "metadata": {
  "kernelspec": {
   "display_name": "Python 3 (ipykernel)",
   "language": "python",
   "name": "python3"
  },
  "language_info": {
   "codemirror_mode": {
    "name": "ipython",
    "version": 3
   },
   "file_extension": ".py",
   "mimetype": "text/x-python",
   "name": "python",
   "nbconvert_exporter": "python",
   "pygments_lexer": "ipython3",
   "version": "3.12.7"
  }
 },
 "nbformat": 4,
 "nbformat_minor": 5
}
